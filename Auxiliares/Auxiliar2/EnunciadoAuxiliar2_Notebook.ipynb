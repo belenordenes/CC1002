{
  "nbformat": 4,
  "nbformat_minor": 0,
  "metadata": {
    "colab": {
      "name": "EnunciadoAuxiliar2_Notebook.ipynb",
      "provenance": [],
      "collapsed_sections": [],
      "toc_visible": true,
      "include_colab_link": true
    },
    "kernelspec": {
      "name": "python3",
      "display_name": "Python 3"
    }
  },
  "cells": [
    {
      "cell_type": "markdown",
      "metadata": {
        "id": "view-in-github",
        "colab_type": "text"
      },
      "source": [
        "<a href=\"https://colab.research.google.com/github/bpoblete/CC1002/blob/master/Auxiliares/Auxiliar2/EnunciadoAuxiliar2_Notebook.ipynb\" target=\"_parent\"><img src=\"https://colab.research.google.com/assets/colab-badge.svg\" alt=\"Open In Colab\"/></a>"
      ]
    },
    {
      "cell_type": "markdown",
      "metadata": {
        "id": "IFntysU_far0",
        "colab_type": "text"
      },
      "source": [
        "# Auxiliar semana 2 \n"
      ]
    },
    {
      "cell_type": "markdown",
      "metadata": {
        "id": "UyT9I0fDx0Nm",
        "colab_type": "text"
      },
      "source": [
        "P1) En el modulo triangulo.py se encuentran las siguientes funciones:\n",
        "\n",
        "\n",
        "\n",
        "*   **esTriangulo**: Entrega un booleano verificando si 3 lados pueden formar un triángulo\n",
        "*   **perimetroTriangulo**: Entrega el valor del perímetro de un triángulo dado sus 3 lados\n",
        "*   **areaTriangulo**: Entrega el valor del área del triángulo dados sus 3 lados\n",
        "\n",
        "Programe la función **datosTriangulo** usando el modulo triangulo.py donde dado 3 valores verifica si es un triangulo, si es así muestra en pantalla el valor del perímetro y área, en caso contrario imprime en pantalla, no es un triángulo. Siga el siguiente esquema:\n",
        "\n",
        "\n",
        "```\n",
        "datosTriangulo(2,3,4)\n",
        "perimetro: 9\n",
        "area: 2.9047375096555625\n",
        "\n",
        "\n",
        "datosTriangulo(8,1,2)\n",
        "no es un triangulo\n",
        "```\n",
        "\n",
        "\n",
        "\n"
      ]
    },
    {
      "cell_type": "code",
      "metadata": {
        "id": "XAnAXh8mzVM4",
        "colab_type": "code",
        "colab": {}
      },
      "source": [
        "# codigo\n"
      ],
      "execution_count": null,
      "outputs": []
    },
    {
      "cell_type": "markdown",
      "metadata": {
        "id": "8UCiKe30PBQ4",
        "colab_type": "text"
      },
      "source": [
        "\n",
        "\n",
        "```\n",
        "# Esto tiene formato de código\n",
        "```\n",
        "\n",
        "P2) Queremos realizar un programa que verifique si un numero a es **diminutivo** de otro numero b otro, es decir , si cada uno de los dígitos de a es menor estricto a cada uno de los dígitos de b\n",
        "\n",
        "Ejemplo: 523 es diminutivo de 687. En cambio 418 no es diminutivo a 293\n",
        "\n",
        "Cree la función diminutivo(a,b), en donde a y b son números enteros, cada uno de 3 cifras. Para esto siga el siguiente comportamiento:\n",
        "\n",
        "\n",
        "\n",
        "*  Si a es diminutivo de b, entonces la función debe mostrar \"correcto\" en pantalla retornando un numero 1.\n",
        "*   En caso contrario, debe mostrar \"incorrecto! n_a es mayor o igual a n_b\", donde n_a y n_b son los dígitos donde no se cumple la condición y  finalmente retornar un numero 0\n",
        "\n",
        "\n"
      ]
    },
    {
      "cell_type": "code",
      "metadata": {
        "id": "AqHBmLIfRLfn",
        "colab_type": "code",
        "colab": {}
      },
      "source": [
        "# codigo\n"
      ],
      "execution_count": null,
      "outputs": []
    },
    {
      "cell_type": "markdown",
      "metadata": {
        "id": "p68IIwEgqiTu",
        "colab_type": "text"
      },
      "source": [
        "P3) En plena cuarentena te encuentras en tu casa a punto de entregar una tarea para el ramo de programación, pero ha ocurrido un problema, te has quedado sin internet, a lo que tienes que elegir una de las siguientes alternativas:\n",
        "\n",
        "\n",
        "\n",
        "*   Correr donde tu amigo más cercano (amigo_x,amigo_y) para pedirle internet y enviar tu tarea\n",
        "*   Ir donde tu abuela (abuela_x,abuela_y) para conseguir internet y lograr enviar tu tarea\n",
        "\n",
        "Para esto necesitas calcular el lugar más cercano y así tomar una buena decisión. Además cuentas con un permiso de 30 minutos (si no iras detenido), consideramos que la velocidad sera de 15km/h en bicicleta (trabaje en minutos, las distancias están en km). Para lograrlo siga los siguientes pasos:\n",
        "\n",
        "\n",
        "A)\n",
        "*   i) **distancia(x1,x2,y1,y2)**: Esta calcula la distancia entre dos puntos\n",
        "*   ii) **tiempo(distancia)**: Esta debe calcular el tiempo que demora en recorrer esa distancia \n",
        "\n",
        "\n",
        "\n"
      ]
    },
    {
      "cell_type": "code",
      "metadata": {
        "id": "uImh4nzxwOgn",
        "colab_type": "code",
        "colab": {}
      },
      "source": [
        "# codigo"
      ],
      "execution_count": null,
      "outputs": []
    },
    {
      "cell_type": "markdown",
      "metadata": {
        "id": "E0IvUtUPzZJx",
        "colab_type": "text"
      },
      "source": [
        "B) Realice un programa interactivo que solicite su ubicación, la ubicación de su amigo y de su abuela, finalmente entrege como resultado la ubicación más cercana y si es posible llegar a tiempo sin que el permiso expire. Para esto siga la siguiente plantilla:\n",
        "\n",
        "\n",
        "\n",
        "```\n",
        "Su ubicacion x? 5\n",
        "Su ubicacion y? 6\n",
        "Amigo x? 5\n",
        "Amigo y? 5\n",
        "Abuela x? 7\n",
        "Abuela y? 9\n",
        "Menor distancia: amigo\n",
        "Tiempo:3.75\n",
        "Lo logra\n",
        "\n",
        "```\n",
        "\n"
      ]
    },
    {
      "cell_type": "code",
      "metadata": {
        "id": "ko0b1Zi41MFt",
        "colab_type": "code",
        "colab": {}
      },
      "source": [
        "# codigo\n",
        "\n"
      ],
      "execution_count": null,
      "outputs": []
    },
    {
      "cell_type": "markdown",
      "metadata": {
        "id": "gBg-shlUWKn4",
        "colab_type": "text"
      },
      "source": [
        "P4) Para esta pregunta vamos a recrear la caracola mágica de Bob Esponja pero con algunas modificaciones. Nuestra caracola tendrá tres respuestas para nuestras preguntas, estas son \"Si!\", \"No!\" o \"No he entendido la pregunta\". Para esto, programe una función caracola(pregunta) la cual entregara la respuesta de la siguiente manera:\n",
        "\n",
        "\n",
        "\n",
        "*   El 45% de las veces responderá con un \"Si!\" \n",
        "*   El 35% de las veces responderá con un \"No!\"\n",
        "*   El resto del 20% responderá con un \"No lo he entendido\"\n",
        "\n",
        "Además de esta función, realice un programa interactivo para poner a prueba la caracola, siga el siguiente ejemplo:\n",
        "\n",
        "\n",
        "\n",
        "\n",
        "```\n",
        "Cual es la pregunta: ¿Pasare este ramo?\n",
        "Respuesta: Si! \n",
        "```\n",
        "\n",
        "\n",
        "\n"
      ]
    },
    {
      "cell_type": "code",
      "metadata": {
        "id": "RVOZGhYwYaAw",
        "colab_type": "code",
        "colab": {}
      },
      "source": [
        "# codigo\n"
      ],
      "execution_count": null,
      "outputs": []
    }
  ]
}