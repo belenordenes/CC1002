{
  "nbformat": 4,
  "nbformat_minor": 0,
  "metadata": {
    "colab": {
      "name": "Auxiliar1.ipynb",
      "provenance": [],
      "collapsed_sections": [],
      "include_colab_link": true
    },
    "kernelspec": {
      "name": "python3",
      "display_name": "Python 3"
    }
  },
  "cells": [
    {
      "cell_type": "markdown",
      "metadata": {
        "id": "view-in-github",
        "colab_type": "text"
      },
      "source": [
        "<a href=\"https://colab.research.google.com/github/bpoblete/CC1002/blob/master/Auxiliares/Auxiliar1.ipynb\" target=\"_parent\"><img src=\"https://colab.research.google.com/assets/colab-badge.svg\" alt=\"Open In Colab\"/></a>"
      ]
    },
    {
      "cell_type": "markdown",
      "metadata": {
        "id": "kX0kACS0Bp5k",
        "colab_type": "text"
      },
      "source": [
        "# Auxiliar Semana 1"
      ]
    },
    {
      "cell_type": "markdown",
      "metadata": {
        "id": "WqA9LlKNDrVf",
        "colab_type": "text"
      },
      "source": [
        "## Pregunta 1\n",
        "Cree una funcion con su receta de disenno que reciba un numero de dos digitos\n",
        "los invierta de posicion.\n",
        "\n",
        "EG: invertir(24) -> 42 "
      ]
    },
    {
      "cell_type": "code",
      "metadata": {
        "id": "l-_o1MRWEEL3",
        "colab_type": "code",
        "colab": {}
      },
      "source": [
        "#\n",
        "# RECETA\n",
        "#\n",
        "def invertir(n):"
      ],
      "execution_count": null,
      "outputs": []
    },
    {
      "cell_type": "markdown",
      "metadata": {
        "id": "4VXX_YTR8P_M",
        "colab_type": "text"
      },
      "source": [
        "## Pregunta 2\n",
        "Cree una funcion con su receta de disenno que reciba un entero N y retorne la suma de todos los enteros desde 1 hasta N.\n",
        "\n",
        "EG: sumEnteros(100) = 5050\n",
        "\n",
        "\n",
        "\n"
      ]
    },
    {
      "cell_type": "code",
      "metadata": {
        "id": "xZxpn9Ty-OSL",
        "colab_type": "code",
        "colab": {}
      },
      "source": [
        "#\n",
        "# RECETA\n",
        "#\n",
        "def sumEnteros(n):"
      ],
      "execution_count": null,
      "outputs": []
    },
    {
      "cell_type": "markdown",
      "metadata": {
        "id": "yh9v_yS6AcKs",
        "colab_type": "text"
      },
      "source": [
        "## Pregunta 3\n",
        "Cree una funcion con su receta de disenno que reciba dos enteros X, Y (X$\\le$Y) y retorne la suma de todos los enteros desde X hasta Y.\n",
        "\n",
        "EG: sumEnterosEnRango(5, 10) = 40"
      ]
    },
    {
      "cell_type": "code",
      "metadata": {
        "id": "DFleS7AhBOkM",
        "colab_type": "code",
        "colab": {}
      },
      "source": [
        "#\n",
        "# RECETA\n",
        "#\n",
        "def sumEnterosEnRango(x, y):"
      ],
      "execution_count": null,
      "outputs": []
    },
    {
      "cell_type": "markdown",
      "metadata": {
        "id": "ZNlFalzXc3F4",
        "colab_type": "text"
      },
      "source": [
        "## Pregunta 4\n",
        "Cree una funcion **hoyEs(n)** con su respectiva receta de disenno que reciba un entero de ocho digitos de la forma YYYYMMDD, y retorne un string que diga \"Hoy es DD del MM del anno YYYY\"\n",
        "\n",
        "EG: hoyEs(20200831) -> \"Hoy es 31 del 08 del anno 2020\""
      ]
    },
    {
      "cell_type": "code",
      "metadata": {
        "id": "J-SdUwK-pHdi",
        "colab_type": "code",
        "colab": {}
      },
      "source": [
        "#\n",
        "# RECETA\n",
        "#\n",
        "def hoyEs(n):"
      ],
      "execution_count": null,
      "outputs": []
    },
    {
      "cell_type": "markdown",
      "metadata": {
        "id": "sTY3hwZ5r3o5",
        "colab_type": "text"
      },
      "source": [
        "## Pregunta 5\n",
        "Cree una funcion **minToHora(min)** con su receta de disenno que reciba una cantidad entera de minutos y retorne un string de la forma \"HH:MM\" que represente la cantidad de minutos entregados en horas\n",
        "\n",
        "EG: minToHora(150)->\"2:30\""
      ]
    },
    {
      "cell_type": "code",
      "metadata": {
        "id": "fZ84Q3w7u60M",
        "colab_type": "code",
        "colab": {}
      },
      "source": [
        "#\n",
        "# RECETA\n",
        "#\n",
        "def minToHora(n):"
      ],
      "execution_count": null,
      "outputs": []
    },
    {
      "cell_type": "markdown",
      "metadata": {
        "id": "TwTlrU0Y1Jxd",
        "colab_type": "text"
      },
      "source": [
        "## Pregunta 6\n",
        "Usando las funciones hoyEs y minToHora cree una nueva funcion **ahoraEs(n):** que reciba un entero de 12 digitos de la forma YYYYMMDDHHHH y retorne la frase \"Hoy es DD del MM del anno YYYY, y la hora actual es JJ:KK\", donde JJ:KK son HHHH minutos transformados a horas.\n",
        "\n",
        "EG: ahoraEs(202008310150) -> \"Hoy es 31 del 8 del anno 2020, y la hora actual es 2:30\""
      ]
    },
    {
      "cell_type": "code",
      "metadata": {
        "id": "7LKOY3Li1Jev",
        "colab_type": "code",
        "colab": {}
      },
      "source": [
        "#\n",
        "# RECETA\n",
        "#\n",
        "def ahoraEs(n):"
      ],
      "execution_count": null,
      "outputs": []
    }
  ]
}