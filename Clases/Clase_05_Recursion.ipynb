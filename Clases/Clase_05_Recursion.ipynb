{
  "nbformat": 4,
  "nbformat_minor": 0,
  "metadata": {
    "kernelspec": {
      "name": "python3",
      "display_name": "Python 3"
    },
    "colab": {
      "name": "Clase_05_Recursion.ipynb",
      "provenance": [],
      "collapsed_sections": [],
      "include_colab_link": true
    }
  },
  "cells": [
    {
      "cell_type": "markdown",
      "metadata": {
        "id": "view-in-github",
        "colab_type": "text"
      },
      "source": [
        "<a href=\"https://colab.research.google.com/github/bpoblete/CC1002/blob/master/Clases/Clase_05_Recursion.ipynb\" target=\"_parent\"><img src=\"https://colab.research.google.com/assets/colab-badge.svg\" alt=\"Open In Colab\"/></a>"
      ]
    },
    {
      "cell_type": "markdown",
      "metadata": {
        "id": "44YjfxXlZfju",
        "colab_type": "text"
      },
      "source": [
        "# Clase 5: Recursión\n",
        "**(Leer Capítulo 6 del Apunte)**\n",
        "\n",
        "\n",
        "En programación se habla de funciones recursivas cuando la definición de estas depende de sí mismas.\n",
        "\n",
        "Se basa en el principio de la _inducción_:\n",
        "- Caso base\n",
        "- Caso n => n+1\n",
        "\n",
        "\n",
        "## Ejemplo de función recursiva: Potencia\n",
        "\n",
        "\n",
        " \\begin{align*}\n",
        "  2^4 &= 2 \\cdot 2^{4 - 1} \\\\\n",
        "  &= 2 \\cdot 2^{3} \\\\\n",
        "  &= 2 \\cdot (2 \\cdot 2^{2}) \\\\\n",
        "  &= 2 \\cdot (2 \\cdot (2 \\cdot 2^1)) \\\\\n",
        "  &= 2 \\cdot (2 \\cdot (2 \\cdot (2 \\cdot 2^0))) \\\\\n",
        "  &= 2 \\cdot (2 \\cdot (2 \\cdot (2 \\cdot 1))) \\\\\n",
        "  &= 16\n",
        "  \\end{align*}\n",
        "  "
      ]
    },
    {
      "cell_type": "markdown",
      "metadata": {
        "id": "QJwHUWolYvsd",
        "colab_type": "text"
      },
      "source": [
        "\n",
        "\n",
        "\n",
        "\\begin{equation*}\n",
        "a^b=  \n",
        "\\begin{cases}\n",
        "    1       & \\quad \\text{si } b=0\\\\\n",
        "    a\\cdot a^{b-1}  & \\quad \\text{si } b>0\\\\\n",
        "\\end{cases}\n",
        "\\end{equation*}"
      ]
    },
    {
      "cell_type": "code",
      "metadata": {
        "id": "vCQhAZpsYvse",
        "colab_type": "code",
        "colab": {}
      },
      "source": [
        "# potencia: num int -> num\n",
        "# calcula el valor de una potencia de base elevado a exponente\n",
        "# para exponentes enteros positivos\n",
        "# ejemplo: potencia (4,5) debe dar 1024\n",
        "def potencia(base, exponente):\n",
        "    if exponente == 0:\n",
        "        return 1\n",
        "    else:\n",
        "        return base*(potencia(base, exponente-1))\n",
        "\n",
        "# test\n",
        "assert potencia(4,5) == 1024\n",
        "assert potencia(2,4) == 16\n",
        "assert potencia(-1,5) == -1\n",
        "assert potencia(3,0) == 1\n",
        "\n"
      ],
      "execution_count": null,
      "outputs": []
    },
    {
      "cell_type": "code",
      "metadata": {
        "id": "o7MXjrj3Yvsj",
        "colab_type": "code",
        "colab": {}
      },
      "source": [
        "potencia(-2,7)"
      ],
      "execution_count": null,
      "outputs": []
    },
    {
      "cell_type": "markdown",
      "metadata": {
        "id": "hRGwfFGQYvsn",
        "colab_type": "text"
      },
      "source": [
        "- **propuesto:** modificar para permitir tanto exponentes positivos como negativos.\n",
        "\n",
        "\n",
        "\n",
        "\n",
        "## Características de las funciones recursivas\n",
        "\n",
        "Es una función que se define en términos de sí misma es una **_función recursiva_**. Estas funciones siempre deben tener:\n",
        "\n",
        "- un <mark>caso base</mark>\n",
        "- un <mark>caso recursivo</mark>\n",
        "- cada llamada debe <mark>disminuir el tamaño del problema (converger al caso base)</mark>\n",
        "\n",
        "\n",
        "\n",
        "- **Problema:** Contar dígitos de un entero. Ej: 245 tiene 3 dígitos, -4 tiene un dígito.\n",
        "\n",
        "- **Definición:**\n",
        "\n",
        "  - digitos(n) = 1 + digitos(n/10), para n>= 10\n",
        "  - digitos(n) = 1, para |n|<10\n"
      ]
    },
    {
      "cell_type": "code",
      "metadata": {
        "id": "fT-fL5_hYvso",
        "colab_type": "code",
        "colab": {}
      },
      "source": [
        "#digitos: int->int\n",
        "#cuenta digitos de un número entero \n",
        "#ej: dígitos(245) debe ser 3\n",
        "#ej: digitos(4) debe ser 1\n",
        "def digitos(n):\n",
        "    if abs(n) < 10 :\n",
        "        return 1\n",
        "    else:\n",
        "        return 1 + digitos(n//10)\n",
        "# tests\n",
        "assert digitos(245)==3\n",
        "assert digitos(-4)==1"
      ],
      "execution_count": null,
      "outputs": []
    },
    {
      "cell_type": "code",
      "metadata": {
        "id": "4lDlN2GFYvsq",
        "colab_type": "code",
        "colab": {}
      },
      "source": [
        "digitos(-2456)"
      ],
      "execution_count": null,
      "outputs": []
    },
    {
      "cell_type": "markdown",
      "metadata": {
        "id": "6L_yVQHaYvst",
        "colab_type": "text"
      },
      "source": [
        "\n",
        "\n",
        "### Ejemplo de función recursiva: Factorial\n",
        "\n",
        "\\begin{equation*}\n",
        "n!=  \n",
        "\\begin{cases}\n",
        "    1       & \\quad \\text{si } n=0\\\\\n",
        "    n\\cdot (n-1)!  & \\quad \\text{si } n>0\\\\\n",
        "\\end{cases}\n",
        "\\end{equation*}\n",
        "\n",
        "\n",
        "**Escriba la función `factorial` que reciba un entero y retorne su factorial**"
      ]
    },
    {
      "cell_type": "code",
      "metadata": {
        "id": "4yFNu49kYvsu",
        "colab_type": "code",
        "colab": {}
      },
      "source": [
        "# factorial: int -> int\n",
        "# calcula el valor factorial de n\n",
        "# ejemplo: factorial(4) debe dar 24\n",
        "def factorial(n):\n",
        "    if n == 0:\n",
        "        return 1\n",
        "    else:\n",
        "        return n * factorial(n-1) \n",
        "    \n",
        "\n",
        "# test\n",
        "assert factorial(4) == 24\n",
        "assert factorial(2) == 2\n",
        "assert factorial(8) == 40320 \n",
        "\n"
      ],
      "execution_count": null,
      "outputs": []
    },
    {
      "cell_type": "code",
      "metadata": {
        "id": "oydcr3KTYvsy",
        "colab_type": "code",
        "colab": {}
      },
      "source": [
        "factorial(0)"
      ],
      "execution_count": null,
      "outputs": []
    },
    {
      "cell_type": "code",
      "metadata": {
        "id": "kqQ1L7JUYvs1",
        "colab_type": "code",
        "colab": {}
      },
      "source": [
        ">>> factorial(10)"
      ],
      "execution_count": null,
      "outputs": []
    },
    {
      "cell_type": "markdown",
      "metadata": {
        "id": "vaoWCBFX6uuE",
        "colab_type": "text"
      },
      "source": [
        "### ¿Cómo se ejecuta (desenrolla) una Función Recursiva? \n",
        "\n",
        "Usualmente, para diseñar (programar) una función recursiva nos conviene razonar en términos de **caso base** y **caso recursivo**.\n",
        "\n",
        "A veces puede ser útil _seguir la ejecución_ de la función **paso a paso**, mirando qué se va calculando, y así entener lo que sucede en la llamada.\n",
        "\n",
        "Entonces, ¿cómo se _ejecuta_ una función recursiva? Para verlo, podemos imaginarnos que\n",
        "- La primera invocación de la función \"ocurre\" en la parte del código donde está la función,  \n",
        "- Cada invocación (o llamada) a la función produce una **copia** de dicha función dentro del computador, \n",
        "- Esta nueva **copia** se ejecuta, posiblemente generando nuevas copias en secuencia al llamarse recursivamente (decimos que _desenrolla_ la recursión). \n",
        "- Al final, la última copia **cae en el caso base** y retorna un valor, el cual es usado por la copia que hizo la invocación (la penúltima) para calcular su propio valor y retornarlo,  _enrollando_ nuevamente las llamadas recursivas.\n",
        "- El valor devuelto es el valor retornado por la primera copia.\n",
        "\n",
        "<mark>Veamos visualmente la ejecución de la función factorial.</mark>"
      ]
    },
    {
      "cell_type": "markdown",
      "metadata": {
        "id": "lwJutmiVYvs3",
        "colab_type": "text"
      },
      "source": [
        "\n",
        "\n",
        "\n",
        "### ¿Cómo podemos asegurarnos que los valores que reciben las funciones estén en un determinado rango?\n",
        "\n",
        "- Usamos `assert`"
      ]
    },
    {
      "cell_type": "code",
      "metadata": {
        "id": "9xlsaVp-Yvs4",
        "colab_type": "code",
        "colab": {}
      },
      "source": [
        "# factorial: int -> int\n",
        "# calcula el valor factorial de n\n",
        "# ejemplo: factorial(4) debe dar 24\n",
        "def factorial(n):\n",
        "    assert (type(n)==int) and (n>=0), \"Factorial no esta definido para n no entero, ni n negativo.\" \n",
        "    if n == 0:\n",
        "        return 1\n",
        "    else:\n",
        "        return n*(factorial(n-1))\n",
        "\n",
        "# test\n",
        "assert factorial(4) == 24\n",
        "assert factorial(2) == 2\n",
        "assert factorial(8) == 40320 \n",
        "\n"
      ],
      "execution_count": null,
      "outputs": []
    },
    {
      "cell_type": "code",
      "metadata": {
        "id": "2QnUXJiHYvs8",
        "colab_type": "code",
        "colab": {}
      },
      "source": [
        "factorial(-1)"
      ],
      "execution_count": null,
      "outputs": []
    },
    {
      "cell_type": "code",
      "metadata": {
        "id": "T7L36EI-YvtA",
        "colab_type": "code",
        "colab": {}
      },
      "source": [
        "factorial(4)"
      ],
      "execution_count": null,
      "outputs": []
    },
    {
      "cell_type": "markdown",
      "metadata": {
        "id": "QTzwWgQKYvtC",
        "colab_type": "text"
      },
      "source": [
        "### Podemos usar lo aprendido para hacer un programa interactivo que lea una lista indeterminada de números e imprima su factorial\n",
        "\n"
      ]
    },
    {
      "cell_type": "code",
      "metadata": {
        "id": "NljV1UKyYvtD",
        "colab_type": "code",
        "colab": {}
      },
      "source": [
        "#calculaListaFactoriales: None -> None\n",
        "#calcular factorial de lista de numeros ingresada por el teclado\n",
        "#  (la lista termina con el valor \"fin\")\n",
        "#ej: factoriales()  \n",
        "\n",
        "def calculaListaFactoriales():\n",
        "    respuesta=input('n ?')\n",
        "    if respuesta==\"fin\":\n",
        "      return \n",
        "\n",
        "    # caso no es igual a fin\n",
        "    n = int(respuesta)\n",
        "    factorial_n = factorial(n)\n",
        "    print(str(n)+'!='+str(factorial_n))\n",
        "    calculaListaFactoriales()"
      ],
      "execution_count": null,
      "outputs": []
    },
    {
      "cell_type": "code",
      "metadata": {
        "id": "UZ1aCRSdYvtF",
        "colab_type": "code",
        "colab": {}
      },
      "source": [
        "calculaListaFactoriales()\n"
      ],
      "execution_count": null,
      "outputs": []
    },
    {
      "cell_type": "markdown",
      "metadata": {
        "id": "RYoVX_igYvtK",
        "colab_type": "text"
      },
      "source": [
        "\n",
        "\n",
        "\n",
        "### Ejemplo más complicado: Torres de Hanoi\n",
        "\n",
        "\n",
        "Problema matemático que consiste en mover todos los discos desde una vara a otra, bajo las siguientes restricciones:\n",
        "\n",
        "- Sólo 1 disco puede ser movido a la vez.\n",
        "- No puede haber un disco más grande encima de uno más pequeño.\n",
        "- Un movimiento consiste en mover un disco en la cima de una pila de discos hacia otra pila de discos puestos en otra vara.\n",
        "\n",
        "\n",
        "Se nos pide crear una función llamada $hanoi()$ que reciba como parámetro el número de discos de la torre y entregue como salida la cantidad de movimientos que debieron realizarse.\n",
        "\n",
        "\n",
        "![paso 1](https://drive.google.com/uc?id=0B3jzzeIB00s1UFF1c1J2M21xYWs)\n",
        "\n",
        "\n",
        "![paso 2](https://drive.google.com/uc?id=0B3jzzeIB00s1alZaVV9sVjliWlU)\n",
        "\n",
        "\n",
        "![paso 3](https://drive.google.com/uc?id=0B3jzzeIB00s1dzNXZXZHeWhBek0)\n",
        "\n",
        "\n",
        "- Para mover el disco más grande de una vara a otra, necesitamos mover los $n-1$ discos anteriores a otra vara, lo cual nos toma $hanoi(n-1)$ movimientos.\n",
        "\n",
        "- Luego, debemos mover el disco más grande de su vara a la desocupada, esto nos toma $1$ movimiento.\n",
        "\n",
        "- A continuación, debemos volver a mover los $n-1$ discos restantes para que queden encima del disco grande que acabamos de mover. Esto nuevamente nos toma $hanoi(n-1)$ movimientos.\n",
        "\n",
        "-  En total, necesitamos $2\\times hanoi(n-1)+ 1$ movimientos para n discos."
      ]
    },
    {
      "cell_type": "code",
      "metadata": {
        "id": "hwD2xpwgYvtM",
        "colab_type": "code",
        "colab": {}
      },
      "source": [
        "# hanoi: int -> int\n",
        "# calcula el numero de movimientos necesarios para mover \n",
        "# una torre de n discos desde una vara a otra\n",
        "# usando 3 varas y siguiendo las restricciones del puzzle de hanoi\n",
        "# ejemplo: hanoi(0) debe dar 0, hanoi(1) debe dar 1, hanoi(2) debe dar 3\n",
        "def hanoi(n):   \n",
        "    if n<2:\n",
        "        return n\n",
        "    else:\n",
        "        return 1+2*hanoi(n-1)\n",
        "# test\n",
        "assert hanoi(0)==0\n",
        "assert hanoi(1)==1\n",
        "assert hanoi(2)==3\n",
        "assert hanoi(4)==15\n",
        "assert hanoi(5)==31"
      ],
      "execution_count": null,
      "outputs": []
    },
    {
      "cell_type": "markdown",
      "metadata": {
        "id": "TDfH7KPSskO2",
        "colab_type": "text"
      },
      "source": [
        "### Hanoi Animado:\n",
        "\n",
        "Si quiere visualizar cómo se *moverían los discos uno a uno* al seguir el procedimiento anterior (moviendo los discos), mire la animación en http://www.cs.armstrong.edu/liang/animation/web/TowerOfHanoi.html. Pruebe con 2 discos, luego con 3 discos, y luego con más."
      ]
    },
    {
      "cell_type": "markdown",
      "metadata": {
        "id": "dI8lGy3Oaahu",
        "colab_type": "text"
      },
      "source": [
        "## Cómo escribir funciones recursivas\n",
        "\n",
        "- **Son funciones condicionales**\n",
        "- Pensar de forma inductiva:\n",
        "  - **caso base**\n",
        "  - **caso inductivo**: siempre debe <mark>reducir el problema y llevar hacia el caso base</mark>\n",
        "  - podemos asumir que el caso inductivo devolverá el valor correcto.\n",
        "  - debemos <mark>pensar qué es lo que le falta al caso inductivo</mark> para obtener el caso final.\n",
        "  \n",
        " ## Receta de diseño\n",
        " \n",
        "1. Escribir varios ejemplos de uso de la función, incluir parámetro y resultado\n",
        "   - 2 potencia 4 = 6\n",
        "   - 2 potencia 0 = 1\n",
        "   - 2 potencia 3 = 8\n",
        " \n",
        " \n",
        " 2. Decidir cuál de los argumentos va a tener descomposición recursiva.\n",
        "    - El argumento con el procedimiento recursivo es la potencia\n",
        "    \n",
        "\\begin{equation*}\n",
        "    a\\cdot a^{b-1}\n",
        "\\end{equation*}\n",
        "\n",
        "3. Entender cuál es el caso base para el argumento.\n",
        "  - Cuando la potencia es igual a 0, el resultado es 1.\n",
        "  \n",
        "4. Ocupar la receta de diseño normal tomando en cuenta que es una función condicional, donde una rama es el caso base y el otro el caso recursivo. "
      ]
    }
  ]
}